{
 "cells": [
  {
   "cell_type": "code",
   "execution_count": 1,
   "metadata": {},
   "outputs": [
    {
     "name": "stderr",
     "output_type": "stream",
     "text": [
      "objc[87510]: Class CaptureDelegate is implemented in both /Users/wu/anaconda3/envs/mediapipe/lib/python3.9/site-packages/mediapipe/.dylibs/libopencv_videoio.3.4.16.dylib (0x10ae08860) and /Users/wu/anaconda3/envs/mediapipe/lib/python3.9/site-packages/cv2/cv2.abi3.so (0x1665e2840). One of the two will be used. Which one is undefined.\n",
      "objc[87510]: Class CVWindow is implemented in both /Users/wu/anaconda3/envs/mediapipe/lib/python3.9/site-packages/mediapipe/.dylibs/libopencv_highgui.3.4.16.dylib (0x105554a68) and /Users/wu/anaconda3/envs/mediapipe/lib/python3.9/site-packages/cv2/cv2.abi3.so (0x1665e2890). One of the two will be used. Which one is undefined.\n",
      "objc[87510]: Class CVView is implemented in both /Users/wu/anaconda3/envs/mediapipe/lib/python3.9/site-packages/mediapipe/.dylibs/libopencv_highgui.3.4.16.dylib (0x105554a90) and /Users/wu/anaconda3/envs/mediapipe/lib/python3.9/site-packages/cv2/cv2.abi3.so (0x1665e28b8). One of the two will be used. Which one is undefined.\n",
      "objc[87510]: Class CVSlider is implemented in both /Users/wu/anaconda3/envs/mediapipe/lib/python3.9/site-packages/mediapipe/.dylibs/libopencv_highgui.3.4.16.dylib (0x105554ab8) and /Users/wu/anaconda3/envs/mediapipe/lib/python3.9/site-packages/cv2/cv2.abi3.so (0x1665e28e0). One of the two will be used. Which one is undefined.\n",
      "WARNING: Logging before InitGoogleLogging() is written to STDERR\n",
      "W20230410 16:31:06.278754 3714777408 gesture_recognizer_graph.cc:122] Hand Gesture Recognizer contains CPU only ops. Sets HandGestureRecognizerGraph acceleartion to Xnnpack.\n",
      "I20230410 16:31:06.279489 3714777408 hand_gesture_recognizer_graph.cc:250] Custom gesture classifier is not defined.\n",
      "INFO: Created TensorFlow Lite XNNPACK delegate for CPU.\n"
     ]
    }
   ],
   "source": []
  },
  {
   "cell_type": "code",
   "execution_count": 2,
   "metadata": {},
   "outputs": [],
   "source": [
    "import time\n",
    "import random\n",
    "from selenium import webdriver\n",
    "\n",
    "# Initialize the Chrome WebDriver\n",
    "driver = webdriver.Chrome()\n",
    "\n",
    "# Navigate to a web page\n",
    "driver.get(\"https://www.example.com\")\n",
    "\n",
    "def scale_up():\n",
    "    # Create a JavaScript code snippet to change the zoom level\n",
    "    js_code = f\"document.body.style.transform = 'scale(2)';\"\n",
    "\n",
    "    # Execute the JavaScript code to scale the web page\n",
    "    driver.execute_script(js_code)\n",
    "\n",
    "def scale_down():\n",
    "    # Create a JavaScript code snippet to change the zoom level\n",
    "    js_code = f\"document.body.style.transform = 'scale(0.5)';\"\n",
    "\n",
    "    # Execute the JavaScript code to scale the web page\n",
    "    driver.execute_script(js_code)"
   ]
  },
  {
   "cell_type": "code",
   "execution_count": 3,
   "metadata": {},
   "outputs": [
    {
     "ename": "KeyboardInterrupt",
     "evalue": "",
     "output_type": "error",
     "traceback": [
      "\u001b[0;31m---------------------------------------------------------------------------\u001b[0m",
      "\u001b[0;31mKeyboardInterrupt\u001b[0m                         Traceback (most recent call last)",
      "Cell \u001b[0;32mIn[3], line 60\u001b[0m\n\u001b[1;32m     57\u001b[0m         cv2\u001b[38;5;241m.\u001b[39mimshow(\u001b[38;5;124m'\u001b[39m\u001b[38;5;124mGesture Recognition\u001b[39m\u001b[38;5;124m'\u001b[39m, frame)\n\u001b[1;32m     59\u001b[0m         \u001b[38;5;66;03m# Break the loop when the 'q' key is pressed\u001b[39;00m\n\u001b[0;32m---> 60\u001b[0m         \u001b[38;5;28;01mif\u001b[39;00m \u001b[43mcv2\u001b[49m\u001b[38;5;241;43m.\u001b[39;49m\u001b[43mwaitKey\u001b[49m\u001b[43m(\u001b[49m\u001b[38;5;241;43m5\u001b[39;49m\u001b[43m)\u001b[49m \u001b[38;5;241m&\u001b[39m \u001b[38;5;241m0xFF\u001b[39m \u001b[38;5;241m==\u001b[39m \u001b[38;5;28mord\u001b[39m(\u001b[38;5;124m'\u001b[39m\u001b[38;5;124mq\u001b[39m\u001b[38;5;124m'\u001b[39m):\n\u001b[1;32m     61\u001b[0m             \u001b[38;5;28;01mbreak\u001b[39;00m\n\u001b[1;32m     63\u001b[0m cap\u001b[38;5;241m.\u001b[39mrelease()\n",
      "\u001b[0;31mKeyboardInterrupt\u001b[0m: "
     ]
    }
   ],
   "source": [
    "import cv2\n",
    "import mediapipe as mp\n",
    "import time\n",
    "from mediapipe.tasks import python\n",
    "from mediapipe.tasks.python import vision\n",
    "\n",
    "# STEP 2: Create an GestureRecognizer object.\n",
    "base_options = python.BaseOptions(model_asset_path='gesture_recognizer.task')\n",
    "options = vision.GestureRecognizerOptions(base_options=base_options)\n",
    "recognizer = vision.GestureRecognizer.create_from_options(options)\n",
    "\n",
    "# Initialize MediaPipe Hand components\n",
    "mp_drawing = mp.solutions.drawing_utils\n",
    "mp_hands = mp.solutions.hands\n",
    "\n",
    "# Define your custom gesture recognition function\n",
    "def recognize_gesture(hand_landmarks):\n",
    "    \"\"\"\n",
    "    recog_result.gestures[0][0].category_name:\n",
    "        Open palm (Open_Palm)\n",
    "        Pointing up (Pointing_Up)\n",
    "        Thumbs down (Thumb_Down)\n",
    "        Thumbs up (Thumb_Up)\n",
    "        Victory (Victory)\n",
    "        Love (ILoveYou)\n",
    "    recog_result.gestures[0][0].score:\n",
    "        0.0 ~ 1.0\n",
    "    \"\"\"\n",
    "    mp_image = mp.Image(image_format=mp.ImageFormat.SRGB, data=frame_rgb)\n",
    "    recognition_result = recognizer.recognize(mp_image)\n",
    "    return recognition_result\n",
    "\n",
    "# Start capturing video from the webcam\n",
    "cap = cv2.VideoCapture(0)\n",
    "\n",
    "# Initialize MediaPipe Hands with static_image_mode=False for real-time detection\n",
    "with mp_hands.Hands(static_image_mode=False, max_num_hands=2, min_detection_confidence=0.5, min_tracking_confidence=0.5) as hands:\n",
    "    while cap.isOpened():\n",
    "        ret, frame = cap.read()\n",
    "        if not ret:\n",
    "            break\n",
    "\n",
    "        # Convert the frame to RGB for MediaPipe processing\n",
    "        frame_rgb = cv2.cvtColor(frame, cv2.COLOR_BGR2RGB)\n",
    "\n",
    "        # Process the frame and get hand landmarks\n",
    "        result = hands.process(frame_rgb)\n",
    "\n",
    "        # Draw hand landmarks on the frame\n",
    "        if result.multi_hand_landmarks:\n",
    "            for hand_landmarks in result.multi_hand_landmarks:\n",
    "                mp_drawing.draw_landmarks(frame, hand_landmarks, mp_hands.HAND_CONNECTIONS)\n",
    "\n",
    "                # Call your custom gesture recognition function\n",
    "                recog_result = recognize_gesture(hand_landmarks)\n",
    "                if recog_result.gestures:\n",
    "                    gesture = recog_result.gestures[0][0].category_name\n",
    "                    score = recog_result.gestures[0][0].score\n",
    "                    if gesture != 'None':\n",
    "                        print(recog_result.gestures, score)\n",
    "                    if gesture == 'Thumb_Up' and score > 0.8:\n",
    "                        scale_up()\n",
    "        # Display the frame\n",
    "        cv2.imshow('Gesture Recognition', frame)\n",
    "\n",
    "        # Break the loop when the 'q' key is pressed\n",
    "        if cv2.waitKey(5) & 0xFF == ord('q'):\n",
    "            break\n",
    "\n",
    "cap.release()\n",
    "cv2.destroyAllWindows()\n",
    "\n"
   ]
  },
  {
   "cell_type": "code",
   "execution_count": null,
   "metadata": {},
   "outputs": [
    {
     "ename": "IndexError",
     "evalue": "list index out of range",
     "output_type": "error",
     "traceback": [
      "\u001b[0;31m---------------------------------------------------------------------------\u001b[0m",
      "\u001b[0;31mIndexError\u001b[0m                                Traceback (most recent call last)",
      "Cell \u001b[0;32mIn[31], line 1\u001b[0m\n\u001b[0;32m----> 1\u001b[0m \u001b[43mrecog_result\u001b[49m\u001b[38;5;241;43m.\u001b[39;49m\u001b[43mgestures\u001b[49m\u001b[43m[\u001b[49m\u001b[38;5;241;43m0\u001b[39;49m\u001b[43m]\u001b[49m[\u001b[38;5;241m0\u001b[39m]\u001b[38;5;241m.\u001b[39mcategory_name\n",
      "\u001b[0;31mIndexError\u001b[0m: list index out of range"
     ]
    }
   ],
   "source": [
    "recog_result.gestures[0][0].category_name"
   ]
  },
  {
   "cell_type": "code",
   "execution_count": null,
   "metadata": {},
   "outputs": [
    {
     "data": {
      "text/plain": [
       "mediapipe.tasks.python.vision.gesture_recognizer.GestureRecognizerResult"
      ]
     },
     "execution_count": 11,
     "metadata": {},
     "output_type": "execute_result"
    }
   ],
   "source": [
    "type(recog_result)"
   ]
  }
 ],
 "metadata": {
  "kernelspec": {
   "display_name": "Python 3.9.16 ('mediapipe')",
   "language": "python",
   "name": "python3"
  },
  "language_info": {
   "codemirror_mode": {
    "name": "ipython",
    "version": 3
   },
   "file_extension": ".py",
   "mimetype": "text/x-python",
   "name": "python",
   "nbconvert_exporter": "python",
   "pygments_lexer": "ipython3",
   "version": "3.9.16"
  },
  "orig_nbformat": 4,
  "vscode": {
   "interpreter": {
    "hash": "7027291f33e2d3b42c0f641be97e6a54bd5c4af9d6dc3869f13c5c55b9c81fe4"
   }
  }
 },
 "nbformat": 4,
 "nbformat_minor": 2
}
