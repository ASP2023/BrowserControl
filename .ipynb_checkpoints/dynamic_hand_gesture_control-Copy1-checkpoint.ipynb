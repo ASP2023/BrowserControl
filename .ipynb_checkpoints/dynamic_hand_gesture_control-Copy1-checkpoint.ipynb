{
 "cells": [
  {
   "cell_type": "code",
   "execution_count": 1,
   "id": "421db507",
   "metadata": {},
   "outputs": [],
   "source": [
    "import numpy as np\n",
    "import ot"
   ]
  },
  {
   "cell_type": "code",
   "execution_count": 2,
   "id": "6e44c506",
   "metadata": {},
   "outputs": [],
   "source": [
    "A =np.array( [[1,2,3],[2,3,3]])\n",
    "B = np.array([[23,2,3],[21,1,22]])\n",
    "def RW_distance(xs, xt):\n",
    "    '''\n",
    "    :param source_pts: input array of the normalized coordiniates of source pts: array([[x,y,z],[x,y,z] ...])\n",
    "    :param target_pts: output array of the normalized coordiniates of source pts\n",
    "    :return: return the RW distance\n",
    "    '''\n",
    "    mean_s = np.mean(xs,axis = 0)\n",
    "    mean_t = np.mean(xt,axis = 0)\n",
    "    xs = xs - mean_s\n",
    "    xt = xt - mean_t\n",
    "    M = ot.dist(xs, xt, metric = 'sqeuclidean')\n",
    "    a, b = np.ones((xs.shape[0],)) / xs.shape[0], np.ones((xt.shape[0],)) / xt.shape[0]  # uniform distribution on samples\n",
    "    return ot.emd2(a, b, M)"
   ]
  },
  {
   "cell_type": "code",
   "execution_count": null,
   "id": "7aa94bd3",
   "metadata": {},
   "outputs": [],
   "source": []
  },
  {
   "cell_type": "code",
   "execution_count": 3,
   "id": "e90a100c",
   "metadata": {
    "scrolled": true
   },
   "outputs": [
    {
     "name": "stdout",
     "output_type": "stream",
     "text": [
      "hello\n"
     ]
    },
    {
     "name": "stderr",
     "output_type": "stream",
     "text": [
      "WARNING: Logging before InitGoogleLogging() is written to STDERR\n",
      "W20230420 16:29:10.635488 52803 gesture_recognizer_graph.cc:128] Hand Gesture Recognizer contains CPU only ops. Sets HandGestureRecognizerGraph acceleration to Xnnpack.\n",
      "I20230420 16:29:10.636837 52803 hand_gesture_recognizer_graph.cc:249] Custom gesture classifier is not defined.\n",
      "INFO: Created TensorFlow Lite XNNPACK delegate for CPU.\n",
      "[ WARN:0@1.352] global cap_v4l.cpp:982 open VIDEOIO(V4L2:/dev/video0): can't open camera by index\n",
      "[ERROR:0@1.353] global obsensor_uvc_stream_channel.cpp:156 getStreamChannelGroup Camera index out of range\n"
     ]
    },
    {
     "ename": "AttributeError",
     "evalue": "'NoneType' object has no attribute 'shape'",
     "output_type": "error",
     "traceback": [
      "\u001b[0;31m---------------------------------------------------------------------------\u001b[0m",
      "\u001b[0;31mAttributeError\u001b[0m                            Traceback (most recent call last)",
      "Cell \u001b[0;32mIn[3], line 72\u001b[0m\n\u001b[1;32m     69\u001b[0m             \u001b[38;5;28;01mbreak\u001b[39;00m\n\u001b[1;32m     71\u001b[0m \u001b[38;5;28;01mif\u001b[39;00m \u001b[38;5;18m__name__\u001b[39m \u001b[38;5;241m==\u001b[39m \u001b[38;5;124m\"\u001b[39m\u001b[38;5;124m__main__\u001b[39m\u001b[38;5;124m\"\u001b[39m:\n\u001b[0;32m---> 72\u001b[0m     \u001b[43mmain\u001b[49m\u001b[43m(\u001b[49m\u001b[43m)\u001b[49m\n",
      "Cell \u001b[0;32mIn[3], line 25\u001b[0m, in \u001b[0;36mmain\u001b[0;34m()\u001b[0m\n\u001b[1;32m     23\u001b[0m gesture_recognizer \u001b[38;5;241m=\u001b[39m GestureRecognizer()\n\u001b[1;32m     24\u001b[0m \u001b[38;5;66;03m# initilize camera first\u001b[39;00m\n\u001b[0;32m---> 25\u001b[0m \u001b[43mgesture_recognizer\u001b[49m\u001b[38;5;241;43m.\u001b[39;49m\u001b[43mrun\u001b[49m\u001b[43m(\u001b[49m\u001b[43m)\u001b[49m\n\u001b[1;32m     26\u001b[0m \u001b[38;5;66;03m# controller = WebpageController(\"https://www.youtube.com\")\u001b[39;00m\n\u001b[1;32m     27\u001b[0m video_page \u001b[38;5;241m=\u001b[39m (\n\u001b[1;32m     28\u001b[0m     \u001b[38;5;124m\"\u001b[39m\u001b[38;5;124mhttps://www.youtube.com/watch?v=PrOPRJ8K0fU&list=RDPrOPRJ8K0fU&start_radio=1\u001b[39m\u001b[38;5;124m\"\u001b[39m\n\u001b[1;32m     29\u001b[0m )\n",
      "File \u001b[0;32m~/PycharmProject/Advanced_software_para/BrowserControl/gesture_dynamic_control.py:179\u001b[0m, in \u001b[0;36mGestureRecognizer.run\u001b[0;34m(self, fps)\u001b[0m\n\u001b[1;32m    177\u001b[0m ret, frame \u001b[38;5;241m=\u001b[39m \u001b[38;5;28mself\u001b[39m\u001b[38;5;241m.\u001b[39mcap\u001b[38;5;241m.\u001b[39mread()\n\u001b[1;32m    178\u001b[0m frame \u001b[38;5;241m=\u001b[39m cv2\u001b[38;5;241m.\u001b[39mflip(frame, \u001b[38;5;241m1\u001b[39m)\n\u001b[0;32m--> 179\u001b[0m \u001b[38;5;28mself\u001b[39m\u001b[38;5;241m.\u001b[39mh \u001b[38;5;241m=\u001b[39m \u001b[43mframe\u001b[49m\u001b[38;5;241;43m.\u001b[39;49m\u001b[43mshape\u001b[49m[\u001b[38;5;241m0\u001b[39m]\n\u001b[1;32m    180\u001b[0m \u001b[38;5;28mself\u001b[39m\u001b[38;5;241m.\u001b[39mw \u001b[38;5;241m=\u001b[39m frame\u001b[38;5;241m.\u001b[39mshape[\u001b[38;5;241m1\u001b[39m]\n\u001b[1;32m    181\u001b[0m \u001b[38;5;28;01mif\u001b[39;00m \u001b[38;5;129;01mnot\u001b[39;00m ret:\n",
      "\u001b[0;31mAttributeError\u001b[0m: 'NoneType' object has no attribute 'shape'"
     ]
    }
   ],
   "source": [
    "from selenium import webdriver\n",
    "from webpageController import WebpageController\n",
    "import time\n",
    "from gesture_dynamic_control import GestureRecognizer\n",
    "import cv2\n",
    "import pyautogui\n",
    "\n",
    "\n",
    "def move_and_resize_window(title, x, y, width, height):\n",
    "    try:\n",
    "        # FUck this function in the library only support on Windows\n",
    "        window = gw.getWindowsWithTitle(title)[0]\n",
    "        window.moveTo(x, y)\n",
    "        window.resizeTo(width, height)\n",
    "    except IndexError:\n",
    "        print(f'Window with title \"{title}\" not found.')\n",
    "\n",
    "\n",
    "def main():\n",
    "    fps_limit = 2\n",
    "    cv = cv2.VideoCapture(0)\n",
    "    print(\"hello\")\n",
    "    gesture_recognizer = GestureRecognizer()\n",
    "    # initilize camera first\n",
    "    gesture_recognizer.run()\n",
    "    # controller = WebpageController(\"https://www.youtube.com\")\n",
    "    video_page = (\n",
    "        \"https://www.youtube.com/watch?v=PrOPRJ8K0fU&list=RDPrOPRJ8K0fU&start_radio=1\"\n",
    "    )\n",
    "\n",
    "    controller = WebpageController(video_page)\n",
    "    start_time = time.time()\n",
    "    while True:\n",
    "        temp = cv.read\n",
    "        now_time = time.time()\n",
    "        print(now_time)\n",
    "        if (int(now_time-start_time)) > fps_limit:\n",
    "\n",
    "            gesture_recognizer.run()\n",
    "        \n",
    "            command = gesture_recognizer.get_command()\n",
    "            gesture_recognizer.clear_gesture_cache()\n",
    "        # command = input(\"command:\")\n",
    "        \n",
    "        \n",
    "        \n",
    "            if \"w\" == command:\n",
    "                controller.palmMoveDown()\n",
    "            elif \"s\" == command:\n",
    "                controller.palmMoveUp()\n",
    "            elif \"a\" == command:\n",
    "                controller.palmMoveRight()\n",
    "            elif \"d\" == command:\n",
    "                controller.palmMoveLeft()\n",
    "            elif \"pause\" == command:\n",
    "                if time.time() - start_time > 1:\n",
    "                    controller.makeFist()\n",
    "                    start_time = time.time()\n",
    "            elif \"play\" == command:\n",
    "                if time.time() - start_time > 1:\n",
    "                    controller.makeFist()\n",
    "                    start_time = time.time()\n",
    "                controller.makeFist()\n",
    "            elif \"x\" == command:\n",
    "                controller.makeFist()\n",
    "            start_time = now_time\n",
    "            \n",
    "        if cv2.waitKey(1) & 0xFF == ord(\"q\"):\n",
    "            break\n",
    "\n",
    "if __name__ == \"__main__\":\n",
    "    main()\n"
   ]
  }
 ],
 "metadata": {
  "kernelspec": {
   "display_name": "Python 3 (ipykernel)",
   "language": "python",
   "name": "python3"
  },
  "language_info": {
   "codemirror_mode": {
    "name": "ipython",
    "version": 3
   },
   "file_extension": ".py",
   "mimetype": "text/x-python",
   "name": "python",
   "nbconvert_exporter": "python",
   "pygments_lexer": "ipython3",
   "version": "3.10.9"
  }
 },
 "nbformat": 4,
 "nbformat_minor": 5
}
