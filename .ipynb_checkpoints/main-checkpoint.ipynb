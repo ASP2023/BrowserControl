{
 "cells": [
  {
   "cell_type": "code",
   "execution_count": null,
   "metadata": {},
   "outputs": [],
   "source": []
  },
  {
   "cell_type": "code",
   "execution_count": 2,
   "metadata": {},
   "outputs": [],
   "source": [
    "import time\n",
    "import random\n",
    "from selenium import webdriver\n",
    "\n",
    "# Initialize the Chrome WebDriver\n",
    "driver = webdriver.Chrome()\n",
    "\n",
    "# Navigate to a web page\n",
    "driver.get(\"https://www.example.com\")\n",
    "\n",
    "def scale_up():\n",
    "    # Create a JavaScript code snippet to change the zoom level\n",
    "    js_code = f\"document.body.style.transform = 'scale(2)';\"\n",
    "\n",
    "    # Execute the JavaScript code to scale the web page\n",
    "    driver.execute_script(js_code)\n",
    "\n",
    "def scale_down():\n",
    "    # Create a JavaScript code snippet to change the zoom level\n",
    "    js_code = f\"document.body.style.transform = 'scale(0.5)';\"\n",
    "\n",
    "    # Execute the JavaScript code to scale the web page\n",
    "    driver.execute_script(js_code)"
   ]
  },
  {
   "cell_type": "code",
   "execution_count": null,
   "metadata": {},
   "outputs": [
    {
     "name": "stderr",
     "output_type": "stream",
     "text": [
      "WARNING: Logging before InitGoogleLogging() is written to STDERR\n",
      "W20230411 17:14:13.839643 319018 gesture_recognizer_graph.cc:128] Hand Gesture Recognizer contains CPU only ops. Sets HandGestureRecognizerGraph acceleration to Xnnpack.\n",
      "I20230411 17:14:13.840458 319018 hand_gesture_recognizer_graph.cc:249] Custom gesture classifier is not defined.\n",
      "INFO: Created TensorFlow Lite XNNPACK delegate for CPU.\n"
     ]
    },
    {
     "name": "stdout",
     "output_type": "stream",
     "text": [
      "[[Category(index=-1, score=0.7460528016090393, display_name='', category_name='Open_Palm')]] 0.7460528016090393\n",
      "[[Category(index=-1, score=0.7405710816383362, display_name='', category_name='Open_Palm')]] 0.7405710816383362\n",
      "[[Category(index=-1, score=0.7088738083839417, display_name='', category_name='Open_Palm')]] 0.7088738083839417\n",
      "[[Category(index=-1, score=0.7152489423751831, display_name='', category_name='Open_Palm')]] 0.7152489423751831\n",
      "[[Category(index=-1, score=0.7216858863830566, display_name='', category_name='Open_Palm')]] 0.7216858863830566\n",
      "[[Category(index=-1, score=0.7404155731201172, display_name='', category_name='Open_Palm')]] 0.7404155731201172\n",
      "[[Category(index=-1, score=0.7296552658081055, display_name='', category_name='Open_Palm')]] 0.7296552658081055\n",
      "[[Category(index=-1, score=0.743710458278656, display_name='', category_name='Open_Palm')]] 0.743710458278656\n",
      "[[Category(index=-1, score=0.6993809938430786, display_name='', category_name='Open_Palm')]] 0.6993809938430786\n",
      "[[Category(index=-1, score=0.6993809938430786, display_name='', category_name='Open_Palm')]] 0.6993809938430786\n",
      "[[Category(index=-1, score=0.7540425658226013, display_name='', category_name='Open_Palm')]] 0.7540425658226013\n",
      "[[Category(index=-1, score=0.7541543245315552, display_name='', category_name='Open_Palm')]] 0.7541543245315552\n",
      "[[Category(index=-1, score=0.6354082226753235, display_name='', category_name='Open_Palm')]] 0.6354082226753235\n",
      "[[Category(index=-1, score=0.6243600845336914, display_name='', category_name='Open_Palm')]] 0.6243600845336914\n",
      "[[Category(index=-1, score=0.6243600845336914, display_name='', category_name='Open_Palm')]] 0.6243600845336914\n",
      "[[Category(index=-1, score=0.6996912956237793, display_name='', category_name='Open_Palm')]] 0.6996912956237793\n",
      "[[Category(index=-1, score=0.6996912956237793, display_name='', category_name='Open_Palm')]] 0.6996912956237793\n",
      "[[Category(index=-1, score=0.7194119691848755, display_name='', category_name='Open_Palm')]] 0.7194119691848755\n",
      "[[Category(index=-1, score=0.717432975769043, display_name='', category_name='Open_Palm')]] 0.717432975769043\n",
      "[[Category(index=-1, score=0.6546850204467773, display_name='', category_name='Open_Palm')]] 0.6546850204467773\n",
      "[[Category(index=-1, score=0.7350003123283386, display_name='', category_name='Open_Palm')]] 0.7350003123283386\n",
      "[[Category(index=-1, score=0.713028073310852, display_name='', category_name='Open_Palm')]] 0.713028073310852\n",
      "[[Category(index=-1, score=0.7009151577949524, display_name='', category_name='Open_Palm')]] 0.7009151577949524\n",
      "[[Category(index=-1, score=0.7183302044868469, display_name='', category_name='Open_Palm')]] 0.7183302044868469\n",
      "[[Category(index=-1, score=0.5352461934089661, display_name='', category_name='Open_Palm')]] 0.5352461934089661\n",
      "[[Category(index=-1, score=0.7254514694213867, display_name='', category_name='Open_Palm')]] 0.7254514694213867\n",
      "[[Category(index=-1, score=0.6957194805145264, display_name='', category_name='Open_Palm')]] 0.6957194805145264\n",
      "[[Category(index=-1, score=0.6856842637062073, display_name='', category_name='Open_Palm')]] 0.6856842637062073\n",
      "[[Category(index=-1, score=0.6847195029258728, display_name='', category_name='Open_Palm')]] 0.6847195029258728\n",
      "[[Category(index=-1, score=0.6885037422180176, display_name='', category_name='Open_Palm')]] 0.6885037422180176\n",
      "[[Category(index=-1, score=0.7016429305076599, display_name='', category_name='Open_Palm')]] 0.7016429305076599\n",
      "[[Category(index=-1, score=0.6881751418113708, display_name='', category_name='Open_Palm')]] 0.6881751418113708\n",
      "[[Category(index=-1, score=0.71500164270401, display_name='', category_name='Open_Palm')]] 0.71500164270401\n",
      "[[Category(index=-1, score=0.6914746761322021, display_name='', category_name='Open_Palm')]] 0.6914746761322021\n",
      "[[Category(index=-1, score=0.692690908908844, display_name='', category_name='Open_Palm')]] 0.692690908908844\n",
      "[[Category(index=-1, score=0.6874916553497314, display_name='', category_name='Open_Palm')]] 0.6874916553497314\n",
      "[[Category(index=-1, score=0.7159855961799622, display_name='', category_name='Open_Palm')]] 0.7159855961799622\n",
      "[[Category(index=-1, score=0.6382908821105957, display_name='', category_name='Closed_Fist')]] 0.6382908821105957\n",
      "[[Category(index=-1, score=0.6444931626319885, display_name='', category_name='Closed_Fist')]] 0.6444931626319885\n",
      "[[Category(index=-1, score=0.6929404735565186, display_name='', category_name='Open_Palm')]] 0.6929404735565186\n",
      "[[Category(index=-1, score=0.6756935715675354, display_name='', category_name='Open_Palm')]] 0.6756935715675354\n",
      "[[Category(index=-1, score=0.6704856157302856, display_name='', category_name='Open_Palm')]] 0.6704856157302856\n",
      "[[Category(index=-1, score=0.6221420764923096, display_name='', category_name='Open_Palm')]] 0.6221420764923096\n",
      "[[Category(index=-1, score=0.6375126242637634, display_name='', category_name='Closed_Fist')]] 0.6375126242637634\n",
      "[[Category(index=-1, score=0.8234010338783264, display_name='', category_name='Closed_Fist')]] 0.8234010338783264\n",
      "[[Category(index=-1, score=0.6963587403297424, display_name='', category_name='Open_Palm')]] 0.6963587403297424\n",
      "[[Category(index=-1, score=0.6921272873878479, display_name='', category_name='Open_Palm')]] 0.6921272873878479\n",
      "[[Category(index=-1, score=0.681951642036438, display_name='', category_name='Open_Palm')]] 0.681951642036438\n",
      "[[Category(index=-1, score=0.7944409847259521, display_name='', category_name='Closed_Fist')]] 0.7944409847259521\n",
      "[[Category(index=-1, score=0.586992621421814, display_name='', category_name='Closed_Fist')]] 0.586992621421814\n",
      "[[Category(index=-1, score=0.6851967573165894, display_name='', category_name='Open_Palm')]] 0.6851967573165894\n",
      "[[Category(index=-1, score=0.6873135566711426, display_name='', category_name='Open_Palm')]] 0.6873135566711426\n",
      "[[Category(index=-1, score=0.6928296685218811, display_name='', category_name='Open_Palm')]] 0.6928296685218811\n",
      "[[Category(index=-1, score=0.6596600413322449, display_name='', category_name='Closed_Fist')]] 0.6596600413322449\n",
      "[[Category(index=-1, score=0.7331628203392029, display_name='', category_name='Closed_Fist')]] 0.7331628203392029\n",
      "[[Category(index=-1, score=0.6995968222618103, display_name='', category_name='Open_Palm')]] 0.6995968222618103\n",
      "[[Category(index=-1, score=0.6771410703659058, display_name='', category_name='Open_Palm')]] 0.6771410703659058\n",
      "[[Category(index=-1, score=0.6752609014511108, display_name='', category_name='Open_Palm')]] 0.6752609014511108\n",
      "[[Category(index=-1, score=0.5369905233383179, display_name='', category_name='Open_Palm')]] 0.5369905233383179\n",
      "[[Category(index=-1, score=0.672210156917572, display_name='', category_name='Open_Palm')]] 0.672210156917572\n",
      "[[Category(index=-1, score=0.687942385673523, display_name='', category_name='Open_Palm')]] 0.687942385673523\n",
      "[[Category(index=-1, score=0.7016028761863708, display_name='', category_name='Open_Palm')]] 0.7016028761863708\n",
      "[[Category(index=-1, score=0.6988232731819153, display_name='', category_name='Open_Palm')]] 0.6988232731819153\n",
      "[[Category(index=-1, score=0.697730302810669, display_name='', category_name='Open_Palm')]] 0.697730302810669\n",
      "[[Category(index=-1, score=0.6929109692573547, display_name='', category_name='Open_Palm')]] 0.6929109692573547\n",
      "[[Category(index=-1, score=0.6901965737342834, display_name='', category_name='Open_Palm')]] 0.6901965737342834\n",
      "[[Category(index=-1, score=0.6951141953468323, display_name='', category_name='Open_Palm')]] 0.6951141953468323\n",
      "[[Category(index=-1, score=0.6896434426307678, display_name='', category_name='Open_Palm')]] 0.6896434426307678\n",
      "[[Category(index=-1, score=0.6862323880195618, display_name='', category_name='Open_Palm')]] 0.6862323880195618\n",
      "[[Category(index=-1, score=0.6840066313743591, display_name='', category_name='Open_Palm')]] 0.6840066313743591\n",
      "[[Category(index=-1, score=0.6924224495887756, display_name='', category_name='Open_Palm')]] 0.6924224495887756\n",
      "[[Category(index=-1, score=0.688700795173645, display_name='', category_name='Open_Palm')]] 0.688700795173645\n",
      "[[Category(index=-1, score=0.6910695433616638, display_name='', category_name='Open_Palm')]] 0.6910695433616638\n",
      "[[Category(index=-1, score=0.6661955714225769, display_name='', category_name='Open_Palm')]] 0.6661955714225769\n"
     ]
    },
    {
     "name": "stdout",
     "output_type": "stream",
     "text": [
      "[[Category(index=-1, score=0.6744056940078735, display_name='', category_name='Open_Palm')]] 0.6744056940078735\n",
      "[[Category(index=-1, score=0.6807931661605835, display_name='', category_name='Open_Palm')]] 0.6807931661605835\n",
      "[[Category(index=-1, score=0.6747884750366211, display_name='', category_name='Open_Palm')]] 0.6747884750366211\n",
      "[[Category(index=-1, score=0.6912355422973633, display_name='', category_name='Open_Palm')]] 0.6912355422973633\n",
      "[[Category(index=-1, score=0.7017682790756226, display_name='', category_name='Open_Palm')]] 0.7017682790756226\n",
      "[[Category(index=-1, score=0.6861277222633362, display_name='', category_name='Open_Palm')]] 0.6861277222633362\n",
      "[[Category(index=-1, score=0.6313080191612244, display_name='', category_name='Open_Palm')]] 0.6313080191612244\n",
      "[[Category(index=-1, score=0.5561494827270508, display_name='', category_name='Open_Palm')]] 0.5561494827270508\n"
     ]
    }
   ],
   "source": [
    "import cv2\n",
    "import mediapipe as mp\n",
    "import time\n",
    "from mediapipe.tasks import python\n",
    "from mediapipe.tasks.python import vision\n",
    "\n",
    "# STEP 2: Create an GestureRecognizer object.\n",
    "base_options = python.BaseOptions(model_asset_path='gesture_recognizer.task')\n",
    "options = vision.GestureRecognizerOptions(base_options=base_options)\n",
    "recognizer = vision.GestureRecognizer.create_from_options(options)\n",
    "\n",
    "# Initialize MediaPipe Hand components\n",
    "mp_drawing = mp.solutions.drawing_utils\n",
    "mp_hands = mp.solutions.hands\n",
    "\n",
    "# Define your custom gesture recognition function\n",
    "def recognize_gesture(hand_landmarks):\n",
    "    \"\"\"\n",
    "    recog_result.gestures[0][0].category_name:\n",
    "        Open palm (Open_Palm)\n",
    "        Pointing up (Pointing_Up)\n",
    "        Thumbs down (Thumb_Down)\n",
    "        Thumbs up (Thumb_Up)\n",
    "        Victory (Victory)\n",
    "        Love (ILoveYou)\n",
    "    recog_result.gestures[0][0].score:\n",
    "        0.0 ~ 1.0\n",
    "    \"\"\"\n",
    "    mp_image = mp.Image(image_format=mp.ImageFormat.SRGB, data=frame_rgb)\n",
    "    recognition_result = recognizer.recognize(mp_image)\n",
    "    return recognition_result\n",
    "\n",
    "# Start capturing video from the webcam\n",
    "cap = cv2.VideoCapture(0)\n",
    "\n",
    "# Initialize MediaPipe Hands with static_image_mode=False for real-time detection\n",
    "with mp_hands.Hands(static_image_mode=False, max_num_hands=2, min_detection_confidence=0.5, min_tracking_confidence=0.5) as hands:\n",
    "    while cap.isOpened():\n",
    "        ret, frame = cap.read()\n",
    "        if not ret:\n",
    "            break\n",
    "\n",
    "        # Convert the frame to RGB for MediaPipe processing\n",
    "        frame_rgb = cv2.cvtColor(frame, cv2.COLOR_BGR2RGB)\n",
    "\n",
    "        # Process the frame and get hand landmarks\n",
    "        result = hands.process(frame_rgb)\n",
    "\n",
    "        # Draw hand landmarks on the frame\n",
    "        if result.multi_hand_landmarks:\n",
    "            for hand_landmarks in result.multi_hand_landmarks:\n",
    "                mp_drawing.draw_landmarks(frame, hand_landmarks, mp_hands.HAND_CONNECTIONS)\n",
    "\n",
    "                # Call your custom gesture recognition function\n",
    "                recog_result = recognize_gesture(hand_landmarks)\n",
    "                if recog_result.gestures:\n",
    "                    gesture = recog_result.gestures[0][0].category_name\n",
    "                    score = recog_result.gestures[0][0].score\n",
    "                    if gesture != 'None':\n",
    "                        print(recog_result.gestures, score)\n",
    "                    if gesture == 'Thumb_Up' and score > 0.8:\n",
    "                        scale_up()\n",
    "        # Display the frame\n",
    "        cv2.imshow('Gesture Recognition', frame)\n",
    "\n",
    "        # Break the loop when the 'q' key is pressed\n",
    "        if cv2.waitKey(5) & 0xFF == ord('q'):\n",
    "            break\n",
    "\n",
    "cap.release()\n",
    "cv2.destroyAllWindows()\n",
    "\n"
   ]
  },
  {
   "cell_type": "code",
   "execution_count": null,
   "metadata": {},
   "outputs": [
    {
     "ename": "IndexError",
     "evalue": "list index out of range",
     "output_type": "error",
     "traceback": [
      "\u001b[0;31m---------------------------------------------------------------------------\u001b[0m",
      "\u001b[0;31mIndexError\u001b[0m                                Traceback (most recent call last)",
      "Cell \u001b[0;32mIn[31], line 1\u001b[0m\n\u001b[0;32m----> 1\u001b[0m \u001b[43mrecog_result\u001b[49m\u001b[38;5;241;43m.\u001b[39;49m\u001b[43mgestures\u001b[49m\u001b[43m[\u001b[49m\u001b[38;5;241;43m0\u001b[39;49m\u001b[43m]\u001b[49m[\u001b[38;5;241m0\u001b[39m]\u001b[38;5;241m.\u001b[39mcategory_name\n",
      "\u001b[0;31mIndexError\u001b[0m: list index out of range"
     ]
    }
   ],
   "source": [
    "recog_result.gestures[0][0].category_name"
   ]
  },
  {
   "cell_type": "code",
   "execution_count": null,
   "metadata": {},
   "outputs": [
    {
     "data": {
      "text/plain": [
       "mediapipe.tasks.python.vision.gesture_recognizer.GestureRecognizerResult"
      ]
     },
     "execution_count": 11,
     "metadata": {},
     "output_type": "execute_result"
    }
   ],
   "source": [
    "type(recog_result)"
   ]
  }
 ],
 "metadata": {
  "kernelspec": {
   "display_name": "Python 3 (ipykernel)",
   "language": "python",
   "name": "python3"
  },
  "language_info": {
   "codemirror_mode": {
    "name": "ipython",
    "version": 3
   },
   "file_extension": ".py",
   "mimetype": "text/x-python",
   "name": "python",
   "nbconvert_exporter": "python",
   "pygments_lexer": "ipython3",
   "version": "3.10.9"
  },
  "vscode": {
   "interpreter": {
    "hash": "7027291f33e2d3b42c0f641be97e6a54bd5c4af9d6dc3869f13c5c55b9c81fe4"
   }
  }
 },
 "nbformat": 4,
 "nbformat_minor": 2
}
